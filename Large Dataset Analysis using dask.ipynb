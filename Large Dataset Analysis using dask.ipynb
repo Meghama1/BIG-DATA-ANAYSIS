{
 "cells": [
  {
   "cell_type": "code",
   "execution_count": 3,
   "id": "f3a5fbd7-e19e-44d0-9e82-bc407d46ed7a",
   "metadata": {},
   "outputs": [
    {
     "name": "stdout",
     "output_type": "stream",
     "text": [
      "Path to dataset files: C:\\Users\\DELL\\.cache\\kagglehub\\datasets\\regivm\\retailtransactiondata\\versions\\1\n"
     ]
    }
   ],
   "source": [
    "import kagglehub\n",
    "# Download latest version\n",
    "path = kagglehub.dataset_download(\"regivm/retailtransactiondata\")\n",
    "print(\"Path to dataset files:\", path)"
   ]
  },
  {
   "cell_type": "code",
   "execution_count": 4,
   "id": "d51d9fef-3b9b-4c74-8013-7ae1f778dfc0",
   "metadata": {},
   "outputs": [],
   "source": [
    "import dask.dataframe as dd\n",
    "import pandas as pd "
   ]
  },
  {
   "cell_type": "code",
   "execution_count": 5,
   "id": "de36e94d-585c-4fbe-ba42-b25d06ac1fc5",
   "metadata": {},
   "outputs": [],
   "source": [
    "file_path = \"C:/Users/DELL/.cache/kagglehub/datasets/regivm/retailtransactiondata/versions/1/*.csv\"\n"
   ]
  },
  {
   "cell_type": "code",
   "execution_count": 6,
   "id": "ae84c42b-bca6-46dd-b58d-1bdac90c3d15",
   "metadata": {},
   "outputs": [],
   "source": [
    "# Load a large dataset (for example, a CSV file) using Dask\n",
    "df = dd.read_csv(file_path)"
   ]
  },
  {
   "cell_type": "code",
   "execution_count": 7,
   "id": "3e5b8cc2-54ee-4e12-b474-cd9432a175df",
   "metadata": {},
   "outputs": [
    {
     "name": "stdout",
     "output_type": "stream",
     "text": [
      "  customer_id  response\n",
      "0      CS1112         0\n",
      "1      CS1113         0\n",
      "2      CS1114         1\n",
      "3      CS1115         1\n",
      "4      CS1116         1\n"
     ]
    }
   ],
   "source": [
    "# Show the first few rows of the dataframe\n",
    "print(df.head())"
   ]
  },
  {
   "cell_type": "code",
   "execution_count": 8,
   "id": "042fd8f2-f4ed-4e69-91b6-8021af2f008c",
   "metadata": {},
   "outputs": [
    {
     "name": "stdout",
     "output_type": "stream",
     "text": [
      "Number of rows in the dataset: 131884\n"
     ]
    }
   ],
   "source": [
    "#  Count the number of rows in the dataset\n",
    "row_count = df.shape[0].compute()\n",
    "print(f\"Number of rows in the dataset: {row_count}\")"
   ]
  },
  {
   "cell_type": "code",
   "execution_count": 9,
   "id": "ccca0327-334e-4fdc-8b88-6b21be079517",
   "metadata": {},
   "outputs": [
    {
     "name": "stdout",
     "output_type": "stream",
     "text": [
      "customer_id    string[pyarrow]\n",
      "response                 int64\n",
      "dtype: object\n"
     ]
    }
   ],
   "source": [
    "print(df.dtypes)"
   ]
  },
  {
   "cell_type": "code",
   "execution_count": 10,
   "id": "792db05d-9484-4757-8c90-ea73a56240aa",
   "metadata": {},
   "outputs": [
    {
     "name": "stdout",
     "output_type": "stream",
     "text": [
      "Dask Series Structure:\n",
      "npartitions=1\n",
      "customer_id    int64\n",
      "response         ...\n",
      "Dask Name: sum, 5 expressions\n",
      "Expr=(~ NotNull(frame=ArrowStringConversion(frame=FromMapProjectable(139ab49)))).sum()\n"
     ]
    }
   ],
   "source": [
    "print(df.isnull().sum())  # Check for missing values in each column"
   ]
  },
  {
   "cell_type": "code",
   "execution_count": 11,
   "id": "085b978b-4399-4285-a4cb-4ac7f87656e3",
   "metadata": {},
   "outputs": [
    {
     "name": "stdout",
     "output_type": "stream",
     "text": [
      "Index(['response'], dtype='object')\n"
     ]
    }
   ],
   "source": [
    "numeric_columns = df.select_dtypes(include='number').columns\n",
    "print(numeric_columns)  # This should list your numeric columns"
   ]
  },
  {
   "cell_type": "code",
   "execution_count": 22,
   "id": "ed915eae-326c-4c00-b60f-976e55f9d96a",
   "metadata": {},
   "outputs": [],
   "source": [
    "# Convert columns to numeric if they are not already\n",
    "df['response'] = pd.to_numeric(df['response'], errors='coerce')\n"
   ]
  },
  {
   "cell_type": "code",
   "execution_count": 13,
   "id": "d564ea99-13b4-4960-8906-d2229f893479",
   "metadata": {},
   "outputs": [
    {
     "name": "stdout",
     "output_type": "stream",
     "text": [
      "  customer_id  response trans_date  tran_amount\n",
      "0      CS1112         0  14-Jan-15           39\n",
      "1      CS1112         0  16-Jul-14           90\n",
      "2      CS1112         0  29-Apr-14           63\n",
      "3      CS1112         0  04-Dec-14           59\n",
      "4      CS1112         0  08-Apr-12           56\n"
     ]
    }
   ],
   "source": [
    "#  Join two dataframes with a key column\n",
    "other_df = dd.read_csv(\"C:/Users/DELL/.cache/kagglehub/datasets/regivm/retailtransactiondata/versions/1/Retail_Data_Transactions*.csv\")\n",
    "joined_df = df.merge(other_df, on=\"customer_id\", how=\"inner\")\n",
    "print(joined_df.head())"
   ]
  },
  {
   "cell_type": "code",
   "execution_count": 14,
   "id": "961d85c4-977f-4e73-9c03-3ab273eb4582",
   "metadata": {},
   "outputs": [
    {
     "name": "stdout",
     "output_type": "stream",
     "text": [
      "Number of rows in the dataset: 2578829\n"
     ]
    }
   ],
   "source": [
    "#  Count the number of rows in the joined dataset\n",
    "row_count = joined_df.shape[0].compute()\n",
    "print(f\"Number of rows in the dataset: {row_count}\")"
   ]
  },
  {
   "cell_type": "code",
   "execution_count": 15,
   "id": "bd7f211a-116c-4ee8-ba62-b02a51f166fa",
   "metadata": {},
   "outputs": [
    {
     "name": "stdout",
     "output_type": "stream",
     "text": [
      "customer_id    string[pyarrow]\n",
      "response                 int64\n",
      "trans_date     string[pyarrow]\n",
      "tran_amount              int64\n",
      "dtype: object\n"
     ]
    }
   ],
   "source": [
    "print(joined_df.dtypes)"
   ]
  },
  {
   "cell_type": "code",
   "execution_count": 16,
   "id": "e81a0de6-249b-479e-b3cc-6337610abea5",
   "metadata": {},
   "outputs": [
    {
     "name": "stdout",
     "output_type": "stream",
     "text": [
      "Columns in the dataframe: Index(['customer_id', 'response', 'trans_date', 'tran_amount'], dtype='object')\n"
     ]
    }
   ],
   "source": [
    "# List the columns in the dataframe\n",
    "print(\"Columns in the dataframe:\", joined_df.columns)"
   ]
  },
  {
   "cell_type": "code",
   "execution_count": 17,
   "id": "0aeeb1c9-a8bc-43c0-9776-7171a7024dc7",
   "metadata": {},
   "outputs": [],
   "source": [
    "# Convert the 'tran_amount' column to numeric data type\n",
    "joined_df['tran_amount'] = dd.to_numeric(joined_df['tran_amount'], errors='coerce')"
   ]
  },
  {
   "cell_type": "code",
   "execution_count": 18,
   "id": "559a56b7-b68f-47e6-8f4b-417adfe010c9",
   "metadata": {},
   "outputs": [
    {
     "name": "stdout",
     "output_type": "stream",
     "text": [
      "count    2.578829e+06\n",
      "mean     6.634931e+01\n",
      "std      2.238178e+01\n",
      "min      1.000000e+01\n",
      "25%      4.900000e+01\n",
      "50%      6.600000e+01\n",
      "75%      8.500000e+01\n",
      "max      1.050000e+02\n",
      "Name: tran_amount, dtype: float64\n"
     ]
    }
   ],
   "source": [
    "#  Calculate summary statistics like mean,standard deviation,minimum,maximum and quartile for numeric columns\n",
    "numeric_columns = joined_df.select_dtypes(include='number').columns\n",
    "summary_stats = joined_df[\"tran_amount\"].describe().compute()\n",
    "print(summary_stats)"
   ]
  },
  {
   "cell_type": "code",
   "execution_count": 19,
   "id": "5e6a55de-9fd5-42d3-bb7f-7f9b75c215df",
   "metadata": {},
   "outputs": [
    {
     "name": "stdout",
     "output_type": "stream",
     "text": [
      "   customer_id  response trans_date  tran_amount\n",
      "11      CS1112         0  01-Mar-13          105\n",
      "36      CS1114         1  29-Dec-13          105\n",
      "63      CS1115         1  03-Sep-11          102\n",
      "72      CS1115         1  16-Oct-12          104\n",
      "88      CS1116         1  14-Feb-12          105\n"
     ]
    }
   ],
   "source": [
    "#  Filter the dataset based on a condition\n",
    "filtered_df = joined_df[joined_df[\"tran_amount\"] > 100]\n",
    "print(filtered_df.head())"
   ]
  },
  {
   "cell_type": "code",
   "execution_count": 20,
   "id": "9a33b109-9bbe-4162-8936-9c2c5f31a5de",
   "metadata": {},
   "outputs": [
    {
     "name": "stdout",
     "output_type": "stream",
     "text": [
      "             tran_amount\n",
      "customer_id             \n",
      "CS1112         67.466667\n",
      "CS1113         74.500000\n",
      "CS1114         75.368421\n",
      "CS1115         75.409091\n",
      "CS1116         65.923077\n",
      "...                  ...\n",
      "CS7297         50.200000\n",
      "CS7638         55.000000\n",
      "CS7413         58.166667\n",
      "CS8376         59.750000\n",
      "CS8753         45.181818\n",
      "\n",
      "[6889 rows x 1 columns]\n"
     ]
    }
   ],
   "source": [
    "#  Group by a column and calculate aggregate statistics\n",
    "grouped_df = joined_df.groupby(\"customer_id\").agg({\"tran_amount\": \"mean\"}).compute()\n",
    "print(grouped_df)"
   ]
  },
  {
   "cell_type": "code",
   "execution_count": 21,
   "id": "9ee6d761-ef6e-4311-a860-2a34ec5d4ec5",
   "metadata": {},
   "outputs": [],
   "source": [
    "import matplotlib.pyplot as plt\n",
    "import seaborn as sns"
   ]
  },
  {
   "cell_type": "code",
   "execution_count": 23,
   "id": "85f8b691-1d05-4f2a-b630-87cbfb282615",
   "metadata": {},
   "outputs": [
    {
     "data": {
      "image/png": "[encoded data removed]",
      "text/plain": [
       "<Figure size 800x400 with 1 Axes>"
      ]
     },
     "metadata": {},
     "output_type": "display_data"
    }
   ],
   "source": [
    "# 6. Data Visualization: Histogram of 'tran_amount\n",
    "df_pd = df.compute()\n",
    "plt.figure(figsize=(8, 4))\n",
    "sns.histplot(df_pd['tran_amount'], bins=30)\n",
    "plt.title('Histogram of Transaction Amounts')\n",
    "plt.xlabel('Transaction Amount')\n",
    "plt.ylabel('Frequency')\n",
    "plt.show()"
   ]
  },
  {
   "cell_type": "code",
   "execution_count": null,
   "id": "0af053f3-929f-4574-bd45-fe395ef10849",
   "metadata": {},
   "outputs": [],
   "source": []
  }
 ],
 "metadata": {
  "kernelspec": {
   "display_name": "Python 3 (ipykernel)",
   "language": "python",
   "name": "python3"
  },
  "language_info": {
   "codemirror_mode": {
    "name": "ipython",
    "version": 3
   },
   "file_extension": ".py",
   "mimetype": "text/x-python",
   "name": "python",
   "nbconvert_exporter": "python",
   "pygments_lexer": "ipython3",
   "version": "3.11.1"
  }
 },
 "nbformat": 4,
 "nbformat_minor": 5
}
